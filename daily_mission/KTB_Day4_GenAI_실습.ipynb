{
  "nbformat": 4,
  "nbformat_minor": 0,
  "metadata": {
    "colab": {
      "provenance": [],
      "toc_visible": true,
      "include_colab_link": true
    },
    "kernelspec": {
      "name": "python3",
      "display_name": "Python 3"
    },
    "language_info": {
      "name": "python"
    }
  },
  "cells": [
    {
      "cell_type": "markdown",
      "metadata": {
        "id": "view-in-github",
        "colab_type": "text"
      },
      "source": [
        "<a href=\"https://colab.research.google.com/github/1013115/KTB_Project/blob/main/KTB_Day4_GenAI_%EC%8B%A4%EC%8A%B5.ipynb\" target=\"_parent\"><img src=\"https://colab.research.google.com/assets/colab-badge.svg\" alt=\"Open In Colab\"/></a>"
      ]
    },
    {
      "cell_type": "markdown",
      "source": [
        "# 파이썬 프로그래밍 II 종합 실습\n",
        "\n",
        "collections 모듈, comprehension, logging, 정규표현식, 멀티스레딩, 멀티프로세싱을 활용합니다.\n",
        "\n"
      ],
      "metadata": {
        "id": "o2A6nokuDOFH"
      }
    },
    {
      "cell_type": "markdown",
      "source": [
        "과제 1: Collections 모듈 활용\n",
        "\n",
        "EXAMPLE_SEQUENCE 값을 활용해보세요.\n",
        "\n",
        "1. Deque: Deque를 생성하고, 요소를 추가하고 제거하는 작업을 해보세요.\n",
        "\n",
        "2. Namedtuple: Namedtuple을 정의하고 인스턴스를 생성해보세요.\n",
        "\n",
        "3. Defaultdict: Defaultdict를 사용해보세요. 키가 없을 때 기본값을 설정하세요.\n",
        "\n",
        "4. Counter: Counter를 사용해 리스트에서 각 요소의 빈도를 세어보세요."
      ],
      "metadata": {
        "id": "wSeIu_4nDSsP"
      }
    },
    {
      "cell_type": "code",
      "execution_count": 12,
      "metadata": {
        "id": "DOHabDfaDMyp",
        "colab": {
          "base_uri": "https://localhost:8080/"
        },
        "outputId": "e83983ab-ffdf-4abb-aef7-a78bad795b2c"
      },
      "outputs": [
        {
          "output_type": "stream",
          "name": "stdout",
          "text": [
            "Deque: deque(['cat', 'mouse', 'parrot', 'bird'])\n",
            "NamedTuple: Animal(kind='dog', name='mary')\n",
            "DefaultDict: defaultdict(<class 'int'>, {'dog': 3})\n",
            "Counter: Counter({'dog': 1, 'cat': 1, 'mouse': 1, 'parrot': 1, 'frog': 1})\n"
          ]
        }
      ],
      "source": [
        "from collections import deque, namedtuple, defaultdict, Counter\n",
        "\n",
        "EXAMPLE_SEQUENCE = ['dog', 'cat', 'mouse', 'parrot', 'frog']\n",
        "\n",
        "# deque\n",
        "dq = deque(EXAMPLE_SEQUENCE)\n",
        "dq.pop()\n",
        "dq.append(\"bird\")\n",
        "dq.popleft()\n",
        "print(\"Deque:\",dq)\n",
        "\n",
        "# namedtuple\n",
        "Animal = namedtuple('Animal','kind name')\n",
        "dog = Animal(kind=\"dog\", name = \"mary\")\n",
        "print(\"NamedTuple:\",dog)\n",
        "\n",
        "# defaultdict\n",
        "dd = defaultdict(int)\n",
        "dd[\"dog\"] +=3\n",
        "print(\"DefaultDict:\",dd)\n",
        "\n",
        "# Counter\n",
        "cnt = Counter(EXAMPLE_SEQUENCE)\n",
        "print(\"Counter:\",cnt)\n"
      ]
    },
    {
      "cell_type": "markdown",
      "source": [
        "과제 2: Comprehension 활용\n",
        "\n",
        "EXAMPLE_SEQUENCE 값을 활용해보세요.\n",
        "\n",
        "1. 리스트 컴프리헨션: 숫자 리스트의 제곱값을 구하세요.\n",
        "\n",
        "2. 딕셔너리 컴프리헨션: 키가 숫자이고 값이 그 숫자의 제곱인 딕셔너리를 생성하세요.\n",
        "\n",
        "3. 집합 컴프리헨션: 중복된 값을 제거한 제곱값 집합을 생성하세요."
      ],
      "metadata": {
        "id": "VUAClu_dD07F"
      }
    },
    {
      "cell_type": "code",
      "source": [
        "EXAMPLE_SEQUENCE = [1, 4, 12, 9, 22, 5, 1, 9]\n",
        "squared_numbers = [x**2 for x in EXAMPLE_SEQUENCE]\n",
        "print(\"리스트 제곱값:\",squared_numbers)\n",
        "\n",
        "squared_dict = {x: x**2 for x in EXAMPLE_SEQUENCE}\n",
        "print(\"딕셔너리 제곱값:\",squared_dict)\n",
        "\n",
        "squared_set = {x**2 for x in EXAMPLE_SEQUENCE}\n",
        "print(\"셋 제곱값:\",squared_set)"
      ],
      "metadata": {
        "id": "UXRdE3o0EDwK",
        "colab": {
          "base_uri": "https://localhost:8080/"
        },
        "outputId": "f2d7fcd3-5540-49ab-fcc1-b5c1b40c1510"
      },
      "execution_count": 16,
      "outputs": [
        {
          "output_type": "stream",
          "name": "stdout",
          "text": [
            "리스트 제곱값: [1, 16, 144, 81, 484, 25, 1, 81]\n",
            "딕셔너리 제곱값: {1: 1, 4: 16, 12: 144, 9: 81, 22: 484, 5: 25}\n",
            "셋 제곱값: {1, 484, 16, 144, 81, 25}\n"
          ]
        }
      ]
    },
    {
      "cell_type": "markdown",
      "source": [
        "과제 3: Logging 활용\n",
        "\n",
        "1. 기본 로깅 설정: 로깅을 설정하고 정보를 로깅하세요. 로그의 형태는 '시간 - 에러레벨 - 메시지' 입니다.\n",
        "\n",
        "2. 예외 로깅: 예외가 발생했을 때 에러를 로깅하세요."
      ],
      "metadata": {
        "id": "j-42IEV_Ec35"
      }
    },
    {
      "cell_type": "code",
      "source": [
        "import logging\n",
        "\n",
        "logging.basicConfig(level=logging.DEBUG,\n",
        "                    format='%(asctime)s - %(levelname)s - %(message)s')\n",
        "\n",
        "logger = logging.getLogger(__name__)\n",
        "\n",
        "def divide(a,b):\n",
        "  try:\n",
        "    result = a/b\n",
        "    logger.info(\"Division successful\")\n",
        "    return result\n",
        "  except ZeroDivisionError:\n",
        "    logger.error(\"Division by zero error\")\n",
        "    return None\n",
        "\n",
        "print(\"Division successful\\n\", divide(10, 2))\n",
        "print(\"Division by zero error\\n\", divide(10, 0))"
      ],
      "metadata": {
        "id": "Q7jfbpQTEz8N",
        "colab": {
          "base_uri": "https://localhost:8080/"
        },
        "outputId": "5d7b6fac-c69c-4629-e7c2-2e9f47949fe6"
      },
      "execution_count": 17,
      "outputs": [
        {
          "output_type": "stream",
          "name": "stderr",
          "text": [
            "ERROR:__main__:Division by zero error\n"
          ]
        },
        {
          "output_type": "stream",
          "name": "stdout",
          "text": [
            "Division successful\n",
            " 5.0\n",
            "Division by zero error\n",
            " None\n"
          ]
        }
      ]
    },
    {
      "cell_type": "code",
      "source": [],
      "metadata": {
        "id": "TCyrEpj9-HW6"
      },
      "execution_count": null,
      "outputs": []
    },
    {
      "cell_type": "markdown",
      "source": [
        "과제 4: 정규 표현식 사용\n",
        "\n",
        "1. 기본 패턴 매칭: 이메일 주소를 추출하세요.\n",
        "\n",
        "2. 기본 패턴 매칭: 비식별화를 진행하세요. ID를 앞 3글자 이외는 모두 '*'로 변경합니다.\n",
        "\n",
        "3. 고급 패턴 매칭: HTML 태그를 제거하세요."
      ],
      "metadata": {
        "id": "VGcHabOVE4mI"
      }
    },
    {
      "cell_type": "code",
      "source": [
        "email = \"MY name is Jhin, my email is kakaotech@goorm.io\"\n",
        "id_list = [\"jhin.lee\", \"lovelove123\", \"세종대왕만세!!\", \"twin에너지123\", \"PostModern\"]\n",
        "html = \"<p>Hello, <b>World!</b></p>\"\n",
        "\n",
        "import re\n",
        "\n",
        "# 시작은 숫자, 대소문자 중에 아무거나 중간에 -_. 과 같은 문자가 들어갈 수 있음 아닐 수도 있고\n",
        "# @ 반드시 존재\n",
        "# 숫자, 대소문자가 오고 중간에 반드시 .이 온다\n",
        "# .뒤에는 대소문자가 2개나 3개 존재\n",
        "pattern = r\"\\b[0[0-9a-zA-Z._-]+@[0-9a-zA-z._-]+\\.[a-zA-Z]{2,3}\\b\"\n",
        "matches = re.findall(pattern,email)\n",
        "print(\"이메일: \",matches)\n",
        "\n",
        "new_list=[]\n",
        "# 긍정적 전방탐샘 문자열의 시작 ^부터 세글자 ... 을 찾는다\n",
        "# .* 임의의 문자를 0회 이상 매칭하는 패턴, 여기서는 문자열 나머지부분\n",
        "#  x.group(0) : * 과 매칭된 전체 문자열 반환\n",
        "pattern = r\"(?<=^...)(.*)\"\n",
        "for i in id_list:\n",
        "  matches = re.sub(pattern,lambda x:'*' * len(x.group(0)),i)\n",
        "  new_list.append(matches)\n",
        "print(\"아이디 리스트: \",new_list)\n",
        "\n",
        "pattern=r\"<.*?>\"\n",
        "clean_text = re.sub(pattern,\"\",html)\n",
        "print(\"태그 제거: \",clean_text)"
      ],
      "metadata": {
        "id": "I-9AqxWWE59J",
        "colab": {
          "base_uri": "https://localhost:8080/"
        },
        "outputId": "76549e71-4cf3-499e-91c2-d9ccd8df83e8"
      },
      "execution_count": 42,
      "outputs": [
        {
          "output_type": "stream",
          "name": "stdout",
          "text": [
            "이메일:  ['kakaotech@goorm.io']\n",
            "아이디 리스트:  ['jhi*****', 'lov********', '세종대*****', 'twi*******', 'Pos*******']\n",
            "태그 제거:  Hello, World!\n"
          ]
        }
      ]
    },
    {
      "cell_type": "markdown",
      "source": [
        "과제 5: 멀티스레딩과 멀티프로세싱\n",
        "\n",
        "1. 스레딩: 한 개의 스레드를 생성하고 실행하는 함수를 작성해주세요.\n",
        "\n",
        "2. 멀티스레딩: 두 개의 스레드를 생성하고 실행하세요.\n",
        "\n",
        "3. 멀티프로세싱: 두 개의 프로세스를 생성하고 실행하세요."
      ],
      "metadata": {
        "id": "tOrX28FZFOYA"
      }
    },
    {
      "cell_type": "code",
      "source": [],
      "metadata": {
        "id": "6t3JDv6eFOEk"
      },
      "execution_count": null,
      "outputs": []
    }
  ]
}
