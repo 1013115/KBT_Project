{
  "nbformat": 4,
  "nbformat_minor": 0,
  "metadata": {
    "colab": {
      "provenance": [],
      "authorship_tag": "ABX9TyNEtU6IQwogYC8YzvvwY1fP",
      "include_colab_link": true
    },
    "kernelspec": {
      "name": "python3",
      "display_name": "Python 3"
    },
    "language_info": {
      "name": "python"
    }
  },
  "cells": [
    {
      "cell_type": "markdown",
      "metadata": {
        "id": "view-in-github",
        "colab_type": "text"
      },
      "source": [
        "<a href=\"https://colab.research.google.com/github/1013115/KTB_Project/blob/main/%EC%B6%94%EC%B2%9C%EC%8B%9C%EC%8A%A4%ED%85%9C.ipynb\" target=\"_parent\"><img src=\"https://colab.research.google.com/assets/colab-badge.svg\" alt=\"Open In Colab\"/></a>"
      ]
    },
    {
      "cell_type": "markdown",
      "source": [
        "## 협업기반 필터링"
      ],
      "metadata": {
        "id": "wiDpkXyaX_MK"
      }
    },
    {
      "cell_type": "code",
      "execution_count": 3,
      "metadata": {
        "colab": {
          "base_uri": "https://localhost:8080/"
        },
        "id": "FKpdSFjYXv7G",
        "outputId": "714b6c22-312c-4162-c349-90dbd30a4847"
      },
      "outputs": [
        {
          "output_type": "stream",
          "name": "stdout",
          "text": [
            "[콘텐츠 기반] 1. 국립산림과학원 남부산림자원연구소는 [자원과 환경]이라는 주제로 전시된 자료를 통해, 우리 생활과 밀접한 관계를 맺고 있는 임업과 산림을 올바르게 이해할 수 있는 국민 학습장의 역할을 다하고, 산업화, 도시화로 점점 메말라가는 사람들의 정서를 함양시키는 데 일익을 담당하는 동시에 산림과 관련된 자료의 수집, 보전 및 전시를 목적으로 한다.\n",
            "남부산림자원연구소는 남부지역 산림자원의 다원적 기능 발굴 및 증진을 위한 산림과학기술력 확보와 건전한 산림육성을 목표로 단기소득 및 특수임산자원의 증식과 고부가가치 이용 기술 개발, 남부산림자원의 종합관리기술 개발 연구를 추진하고 있으며, 아울러 소나무재선충병정밀진단 및 방제에 대한 현장 적용 실용화 연구를 강화하면서 산림과 특수임산자원의 병해충 종합관리 기술개발에 대한 연구를 수행하고 있다. (점수: 0.87)\n",
            "[콘텐츠 기반] 2. 강화자연사박물관은 산업화 도시화로 오염되어 가는 환경에 대한 소중함을 일깨우고 자연과 생명에 대한 올바른 인식을 세우는데 도움이 되고자 2015년에 개관하였다. 강화자연사박물관은 수집 및 연구, 전시를 통해 자연의 신비를 체험하고 학습할 수 있는 공간으로,  우리가 사는 지구가 속한 태양계의 탄생에서 지구를 구성하고 있는 다양한 광물, 생물들을 각각의 특별한 주제로 나누어 전시하고 있다. 이를 통해 박물관을 방문하는 관람객들이 자연보존과 생명의 중요성을 다시 한번 생각하게 하며, 자연과학에 대해 이해를 높일 수 있도록 한다. 세계문화유산인 강화고인돌유적지 부근에 위치해 있어 고인돌과 함께 관람하기 좋다. (점수: 0.86)\n",
            "[콘텐츠 기반] 3. 천문우주관련 전문과학관으로서 포천 아트밸리내에 위치하여 조각 공원과 폐채석장을 활용한 아름다운 자연경관이 자랑이다. 매시간 천체투영실에서 별자리 설명 및 특수영상 등의 체험과 주간에는 태양관측, 야간에는 달과 행성등의 천체관측을 운영한다. 주말과학체험교실과 과학강연 등 다양한 과학체험프로그램도 운영중이다. (점수: 0.78)\n",
            "[콘텐츠 기반] 4. 2004년 개관한 계양도서관은 만남, 발견&감동이라는 슬로건 아래  양질의 최신 정보를 제공하고 유익한 독서프로그램을 개발하며 다양한 평생학습 프로그램을 운영하고 있다.\n",
            "주요사업으로는 책 읽는 도시, 인천 만들기 / 독서 확산 프로그램 운영 / (독서특화) 동화구연 체험관 운영 / 평생학습 프로그램 운영 /초등학력 인정 문해교육 글오름학교 / 마을교육공동체 지원사업이 있다.\n",
            "특색사업으로는 생태·환경의 중요성을 이해하고 실천할 수 있는 기후 위기 대응 생태 환경교육, 계양산 숲 생태 아카이빙 프로그램을 운영하고 있다. (점수: 0.78)\n",
            "[콘텐츠 기반] 5. 시흥 에코센터 초록배곧은 일상생활에서 자연을 지키는 다양한 방법을 체험할 수 있는 환경교육전시관이다. 상설전시관과 체험전시실, 기획전시실 등이 설치되어 있어 환경과 관련된 전시가 이루어지고, 야외에도 생태연못과 생태 텃밭 등 체험학습공간이 마련돼 맞춤형 환경교육이 가능하다. 에코센터 초록배곧은 매년 메인 주제가 바뀌는데, 2021년에는 자원 순환을 주제로 전시와 교육이 이뤄졌다. 아이들에게 쓰레기를 분리 배출하는 방법을 알기 쉽게 설명하는가 하면, 기획전시실에서는 종이 튜브를 통해 숲의 심장 소리를 들어보는 색다른 놀이 공간이 꾸려졌다. 또 입구에 사용하지 않는 아이스팩을 올바르게 자원 순환하여 재사용하는 아이스 백곰 캠페인도 이뤄져 기후 위기에 대한 고민을 상기시키기도 했다. (점수: 0.74)\n"
          ]
        }
      ],
      "source": [
        "import pandas as pd\n",
        "import ast\n",
        "\n",
        "# 데이터 로드 및 전처리\n",
        "file_path = 'result (2).csv'\n",
        "data = pd.read_csv(file_path)\n",
        "data['labels'] = data['labels'].apply(ast.literal_eval)\n",
        "data['scores'] = data['scores'].apply(ast.literal_eval)\n",
        "\n",
        "def recommend_content_based(preferences, top_n=5):\n",
        "    recommendations = []\n",
        "\n",
        "    for i, row in data.iterrows():\n",
        "        relevance_score = sum(row['scores'][row['labels'].index(pref)] for pref in preferences if pref in row['labels'])\n",
        "        recommendations.append((row['sequence'], relevance_score))\n",
        "\n",
        "    recommendations = sorted(recommendations, key=lambda x: x[1], reverse=True)\n",
        "    return recommendations[:top_n]\n",
        "\n",
        "# 예시 사용자 선호도\n",
        "user_preferences = ['가족', '자연']\n",
        "top_content_based = recommend_content_based(user_preferences)\n",
        "\n",
        "for i, (description, score) in enumerate(top_content_based, 1):\n",
        "    print(f\"[콘텐츠 기반] {i}. {description} (점수: {score:.2f})\")\n"
      ]
    },
    {
      "cell_type": "markdown",
      "source": [
        "## 사용자 기반 필터링\n",
        "\n",
        "이의 경우 사용자 클릭수가 있거나.. 사용자의 평가가 존재해야할 듯"
      ],
      "metadata": {
        "id": "l_TdFbJrYQE0"
      }
    },
    {
      "cell_type": "code",
      "source": [
        "from sklearn.metrics.pairwise import cosine_similarity\n",
        "import numpy as np\n",
        "\n",
        "# 가상의 사용자-아이템 행렬 생성\n",
        "# 사용자 선호도 예시 데이터 (사용자 ID, 여행지 ID, 점수)\n",
        "user_ratings = {\n",
        "    'user1': {'0': 4, '1': 3, '2': 5, '3': 4, '4': 2},\n",
        "    'user2': {'0': 3, '1': 4, '2': 2, '3': 5, '4': 4},\n",
        "    'user3': {'0': 5, '1': 2, '2': 4, '3': 3, '4': 3},\n",
        "}\n",
        "\n",
        "# 사용자-아이템 행렬 구성\n",
        "user_item_matrix = pd.DataFrame(user_ratings).T.fillna(0)\n",
        "\n",
        "# 사용자 유사도 계산 (코사인 유사도)\n",
        "user_similarity = cosine_similarity(user_item_matrix)\n",
        "\n",
        "# 예시 사용자 선호도\n",
        "target_user = 'user1'\n",
        "similar_users = user_similarity[user_item_matrix.index.get_loc(target_user)]\n",
        "\n",
        "# 비슷한 사용자들의 평점 평균을 기반으로 추천\n",
        "def recommend_user_based(target_user, top_n=5):\n",
        "    target_index = user_item_matrix.index.get_loc(target_user)\n",
        "    similar_users = user_similarity[target_index]\n",
        "    weighted_sum = np.dot(similar_users, user_item_matrix)\n",
        "    recommendation_scores = weighted_sum / (np.array([np.abs(similar_users).sum(axis=0)]) + 1e-9)\n",
        "\n",
        "    recommendations = []\n",
        "    for idx, score in enumerate(recommendation_scores):\n",
        "        if user_item_matrix[target_user][idx] == 0:  # 아직 평가하지 않은 아이템만 추천\n",
        "            recommendations.append((idx, score))\n",
        "\n",
        "    recommendations = sorted(recommendations, key=lambda x: x[1], reverse=True)\n",
        "    return recommendations[:top_n]\n",
        "\n",
        "top_user_based = recommend_user_based('user1')\n",
        "\n",
        "for i, (index, score) in enumerate(top_user_based, 1):\n",
        "    print(f\"[사용자 기반 협업 필터링] {i}. 여행지 {index} (예상 점수: {score:.2f})\")\n"
      ],
      "metadata": {
        "id": "6she9dmEZDIY"
      },
      "execution_count": null,
      "outputs": []
    },
    {
      "cell_type": "markdown",
      "source": [
        "## 하이브리드\n",
        "\n",
        "이것은 사용자 기반 필터링이 해결되어야.."
      ],
      "metadata": {
        "id": "L24Jytx4ZE7W"
      }
    },
    {
      "cell_type": "code",
      "source": [
        "def recommend_hybrid(preferences, target_user, top_n=5):\n",
        "    # 콘텐츠 기반 추천\n",
        "    content_based_recommendations = recommend_content_based(preferences, top_n)\n",
        "\n",
        "    # 사용자 기반 추천\n",
        "    user_based_recommendations = recommend_user_based(target_user, top_n)\n",
        "\n",
        "    # 결합 추천\n",
        "    combined_recommendations = content_based_recommendations + user_based_recommendations\n",
        "    unique_recommendations = {rec[0]: rec[1] for rec in combined_recommendations}\n",
        "    sorted_recommendations = sorted(unique_recommendations.items(), key=lambda x: x[1], reverse=True)\n",
        "\n",
        "    return sorted_recommendations[:top_n]\n",
        "\n",
        "top_hybrid = recommend_hybrid(user_preferences, 'user1')\n",
        "\n",
        "for i, (index, score) in enumerate(top_hybrid, 1):\n",
        "    print(f\"[하이브리드] {i}. 여행지 {index} (점수: {score:.2f})\")\n"
      ],
      "metadata": {
        "colab": {
          "base_uri": "https://localhost:8080/"
        },
        "collapsed": true,
        "id": "fzPUmiM9ZEWo",
        "outputId": "b5931627-8a16-428c-950e-86ef959cc7dd"
      },
      "execution_count": 10,
      "outputs": [
        {
          "output_type": "stream",
          "name": "stdout",
          "text": [
            "[KNN 기반] 1. 재단법인 부산문화회관이 운영하는 부산문화회관은 1988년 대극장 준공을 시작으로 1993년 전관을 개관하였다. 대극장(1,417석)과 중극장(783석), 어린이 전용극장인 사랑채극장(312석)과 클래식 전용극장인 챔버홀(414석)을 운영하고 있으며, 뮤지컬, 클래식, 무용, 연극 등 다양한 공연을 개최하고 있다.\n",
            "전시실에서는 부산미술대전, 부산서예대전 등 대규모 공모전을 비롯하여 다양한 기획전시가, 2024년 신규 개관한 배움터에서는 매년 상·하반기 문화예술 아카데미가 열린다.\n",
            "야외공원은 부산문화회관과 부산시립박물관, UN공원을 하나로 이어주는 문화공원으로서 시민들을 위한 휴식 공원으로 조성되어 유치원, 어린이들의 휴식공간, 소풍장소로 각광받고 있다. (거리: 2.83)\n",
            "[KNN 기반] 2. ※ 해양박물관 리모델링 공사 관계로 한시적으로 운영 중단됩니다.</br>\n",
            "화진포 관광지구 내에 위치한 해양박물관으로 세계적으로 희귀한 각종 조개류, 갑각류, 산호류, 화석류, 박제 등 다양한 수중생물들을 볼 수 있는 패류박물관과 어류전시관으로 구성되어 있다. 1층은 어류전시관으로 180도 머리 위를 지나는 물고기들을 관람할 수 있고, 2층은 오션 비치, 동해 바다, 무척추 동물관과 입체영상관을 볼 수 있다. 특히 2층에서 상영하는 입체 영상을 통해 화진포의 호수와 바닷속 생태계를 공부할 수 있다. 고성군의 명물인 명태를 비롯해 동해 바다 돌고래, 고성 대진항, 거진항 어부들의 고기잡이 과정도 살펴볼 수 있다. (거리: 2.83)\n",
            "[KNN 기반] 3. 1996년 개관된 양구통일관은 민통선 최북단 양구군 해안면에 위치하고 있다. 통일에 대비해 북한의 현실을 이해하고 통일의식을 고취하기 위한 교육장 역할을 하기 위해 펀치볼분지 북단 제4땅굴 앞 5km 지점에 건립되었다. 통일관은 제1,2 전시실, 농특산물 판매장으로 나뉜다. 북한의 실상을 알 수 있는 생활용품, 수출품과 사진 등을 상설 전시하고 있으며, 농특산물 전시 판매장에서는 농특산물과 관광기념품 등을 판매하고 있다. 통일관에서는 제4 땅굴, 을지전망대, 전쟁기념관의 출입에 관한 업무도 처리하고 있다.\n",
            "인근에는 지금까지 발견된 4개의 땅굴 중 유일하게 땅굴 내부를 관람할 수 있는 전동차를 운행하는 제4땅굴과 국내 전망대 중 최북단에 위치한 을지전망대, 한국전쟁 당시 격전지였던 9개 양구지역 전투를 재조명하기 위해 건립한 전쟁기념관이 있다.\n",
            "통일관 광장에는 유영호 작가의 ‘그리팅맨(Greeting-man, 인사하는 사람)’이 전시되어 있다. 평화와 화해, 만남 등의 의미를 담고 있으며, 언젠가 남북이 서로 인사하고 화합하면서 평화 통일로 함께 나아가게 될 날을 기대해 본다는 작가의 의도를 담고 있다. (거리: 2.83)\n",
            "[KNN 기반] 4. 부산대학교박물관(釜山大學校博物館)은 국립부산대학교 부산캠퍼스에 위치한 박물관이다. 1956년 준공하여, 1964년 5월 정식 개관하였다. 한국전쟁 기간 중에는 국립중앙박물관의 피난 국보문화재를 보관하는 역할을 하였다.\n",
            " 고고·미술·민속 등 2만 4천여 점에 달하는 문화유산을 소장하고 있으며 이를 바탕으로 다양한 상설 및 특별전시를 운영하고 있다. 체험프로그램으로는 “수릿날과 단오부채”, “농업인의 날과 민속놀이 한마당”과 청소년교육프로그램인 “hello museum”, “talk talk museum”, “curare museum” 등을 운영하고 있으며, 올바른 역사 이해와 지역학 연구 활성화를 위한 문화유적답사 프로그램인 “효원가족답사”와 “ PNU역사나들이”도 진행하고 있다. 더불어 역사와 문화에 대한 관심과 흥미를 유발하기 위해 매년 새로운 기획으로 시민인문강좌를 개설하고 있다. (거리: 2.83)\n",
            "[KNN 기반] 5. 하남문화원은 지방문화원 진흥법에 의거하여 지역사회의 계발 및 문화진흥을 목적으로 1996년 6월 11일 설립되었다.  지역 고유문화를 계발, 보존, 전승하고 향토사의 조사, 연구 및 사료의 수집, 보존활동을 하고 있으며, 또한, 지역문화 행사의 개최와 문화에 관한 자료의 수집, 보존 및 보급활동과 지역문화에 대한 사회교육활동을 활발히 전개하고 있다. (거리: 2.83)\n"
          ]
        }
      ]
    },
    {
      "cell_type": "markdown",
      "source": [
        "## KNN\n",
        "\n",
        "아마 사용자기반 필터링에서 사용할듯"
      ],
      "metadata": {
        "id": "e1IBKtqFaxx4"
      }
    },
    {
      "cell_type": "code",
      "source": [
        "import pandas as pd\n",
        "import ast\n",
        "from sklearn.neighbors import NearestNeighbors\n",
        "import numpy as np\n",
        "\n",
        "# 데이터 로드 및 전처리\n",
        "file_path = 'result (2).csv'\n",
        "data = pd.read_csv(file_path)\n",
        "data['labels'] = data['labels'].apply(ast.literal_eval)\n",
        "data['scores'] = data['scores'].apply(ast.literal_eval)\n",
        "\n",
        "# 데이터 인덱스를 재설정하여 순차적인 인덱스를 가지도록 함\n",
        "data.reset_index(drop=True, inplace=True)\n",
        "\n",
        "# 라벨을 바이너리 벡터로 변환\n",
        "all_labels = ['가족', '예술', '연인', '친구', '역사', '자연', '체험', '바다', '산']\n",
        "label_vectors = []\n",
        "for labels in data['labels']:\n",
        "    vector = [1 if label in labels else 0 for label in all_labels]\n",
        "    label_vectors.append(vector)\n",
        "\n",
        "label_vectors = np.array(label_vectors)\n",
        "\n",
        "# KNN 모델 훈련\n",
        "knn = NearestNeighbors(n_neighbors=5, algorithm='auto').fit(label_vectors)\n",
        "\n",
        "def recommend_knn(preferences, top_n=5):\n",
        "    # 사용자 선호도를 바이너리 벡터로 변환\n",
        "    user_vector = np.array([[1 if label in preferences else 0 for label in all_labels]])\n",
        "\n",
        "    # KNN을 사용하여 가장 가까운 이웃 찾기\n",
        "    distances, indices = knn.kneighbors(user_vector, n_neighbors=top_n)\n",
        "\n",
        "    recommendations = []\n",
        "    for idx in indices[0]:\n",
        "        recommendations.append((data.iloc[idx]['sequence'], distances[0][indices[0].tolist().index(idx)]))\n",
        "\n",
        "    return recommendations\n",
        "\n",
        "# 예시 사용자 선호도\n",
        "user_preferences_1 = ['가족', '자연', '체험']\n",
        "top_knn_recommendations_1 = recommend_knn(user_preferences_1)\n",
        "\n",
        "print(\"사용자 선호도: \", user_preferences_1)\n",
        "for i, (description, distance) in enumerate(top_knn_recommendations_1, 1):\n",
        "    print(f\"[KNN 기반] {i}. {description} (거리: {distance:.2f})\")\n",
        "\n"
      ],
      "metadata": {
        "colab": {
          "base_uri": "https://localhost:8080/"
        },
        "id": "opRywVZaazyJ",
        "outputId": "1cf01a94-00f0-483a-fa83-91183145de58"
      },
      "execution_count": 12,
      "outputs": [
        {
          "output_type": "stream",
          "name": "stdout",
          "text": [
            "사용자 선호도:  ['가족', '자연', '체험']\n",
            "[KNN 기반] 1. 재단법인 부산문화회관이 운영하는 부산문화회관은 1988년 대극장 준공을 시작으로 1993년 전관을 개관하였다. 대극장(1,417석)과 중극장(783석), 어린이 전용극장인 사랑채극장(312석)과 클래식 전용극장인 챔버홀(414석)을 운영하고 있으며, 뮤지컬, 클래식, 무용, 연극 등 다양한 공연을 개최하고 있다.\n",
            "전시실에서는 부산미술대전, 부산서예대전 등 대규모 공모전을 비롯하여 다양한 기획전시가, 2024년 신규 개관한 배움터에서는 매년 상·하반기 문화예술 아카데미가 열린다.\n",
            "야외공원은 부산문화회관과 부산시립박물관, UN공원을 하나로 이어주는 문화공원으로서 시민들을 위한 휴식 공원으로 조성되어 유치원, 어린이들의 휴식공간, 소풍장소로 각광받고 있다. (거리: 2.45)\n",
            "[KNN 기반] 2. ※ 해양박물관 리모델링 공사 관계로 한시적으로 운영 중단됩니다.</br>\n",
            "화진포 관광지구 내에 위치한 해양박물관으로 세계적으로 희귀한 각종 조개류, 갑각류, 산호류, 화석류, 박제 등 다양한 수중생물들을 볼 수 있는 패류박물관과 어류전시관으로 구성되어 있다. 1층은 어류전시관으로 180도 머리 위를 지나는 물고기들을 관람할 수 있고, 2층은 오션 비치, 동해 바다, 무척추 동물관과 입체영상관을 볼 수 있다. 특히 2층에서 상영하는 입체 영상을 통해 화진포의 호수와 바닷속 생태계를 공부할 수 있다. 고성군의 명물인 명태를 비롯해 동해 바다 돌고래, 고성 대진항, 거진항 어부들의 고기잡이 과정도 살펴볼 수 있다. (거리: 2.45)\n",
            "[KNN 기반] 3. 1996년 개관된 양구통일관은 민통선 최북단 양구군 해안면에 위치하고 있다. 통일에 대비해 북한의 현실을 이해하고 통일의식을 고취하기 위한 교육장 역할을 하기 위해 펀치볼분지 북단 제4땅굴 앞 5km 지점에 건립되었다. 통일관은 제1,2 전시실, 농특산물 판매장으로 나뉜다. 북한의 실상을 알 수 있는 생활용품, 수출품과 사진 등을 상설 전시하고 있으며, 농특산물 전시 판매장에서는 농특산물과 관광기념품 등을 판매하고 있다. 통일관에서는 제4 땅굴, 을지전망대, 전쟁기념관의 출입에 관한 업무도 처리하고 있다.\n",
            "인근에는 지금까지 발견된 4개의 땅굴 중 유일하게 땅굴 내부를 관람할 수 있는 전동차를 운행하는 제4땅굴과 국내 전망대 중 최북단에 위치한 을지전망대, 한국전쟁 당시 격전지였던 9개 양구지역 전투를 재조명하기 위해 건립한 전쟁기념관이 있다.\n",
            "통일관 광장에는 유영호 작가의 ‘그리팅맨(Greeting-man, 인사하는 사람)’이 전시되어 있다. 평화와 화해, 만남 등의 의미를 담고 있으며, 언젠가 남북이 서로 인사하고 화합하면서 평화 통일로 함께 나아가게 될 날을 기대해 본다는 작가의 의도를 담고 있다. (거리: 2.45)\n",
            "[KNN 기반] 4. 부산대학교박물관(釜山大學校博物館)은 국립부산대학교 부산캠퍼스에 위치한 박물관이다. 1956년 준공하여, 1964년 5월 정식 개관하였다. 한국전쟁 기간 중에는 국립중앙박물관의 피난 국보문화재를 보관하는 역할을 하였다.\n",
            " 고고·미술·민속 등 2만 4천여 점에 달하는 문화유산을 소장하고 있으며 이를 바탕으로 다양한 상설 및 특별전시를 운영하고 있다. 체험프로그램으로는 “수릿날과 단오부채”, “농업인의 날과 민속놀이 한마당”과 청소년교육프로그램인 “hello museum”, “talk talk museum”, “curare museum” 등을 운영하고 있으며, 올바른 역사 이해와 지역학 연구 활성화를 위한 문화유적답사 프로그램인 “효원가족답사”와 “ PNU역사나들이”도 진행하고 있다. 더불어 역사와 문화에 대한 관심과 흥미를 유발하기 위해 매년 새로운 기획으로 시민인문강좌를 개설하고 있다. (거리: 2.45)\n",
            "[KNN 기반] 5. 하남문화원은 지방문화원 진흥법에 의거하여 지역사회의 계발 및 문화진흥을 목적으로 1996년 6월 11일 설립되었다.  지역 고유문화를 계발, 보존, 전승하고 향토사의 조사, 연구 및 사료의 수집, 보존활동을 하고 있으며, 또한, 지역문화 행사의 개최와 문화에 관한 자료의 수집, 보존 및 보급활동과 지역문화에 대한 사회교육활동을 활발히 전개하고 있다. (거리: 2.45)\n",
            "\n",
            "\n",
            "사용자 선호도:  ['예술', '연인', '역사']\n",
            "[KNN 기반] 1. 재단법인 부산문화회관이 운영하는 부산문화회관은 1988년 대극장 준공을 시작으로 1993년 전관을 개관하였다. 대극장(1,417석)과 중극장(783석), 어린이 전용극장인 사랑채극장(312석)과 클래식 전용극장인 챔버홀(414석)을 운영하고 있으며, 뮤지컬, 클래식, 무용, 연극 등 다양한 공연을 개최하고 있다.\n",
            "전시실에서는 부산미술대전, 부산서예대전 등 대규모 공모전을 비롯하여 다양한 기획전시가, 2024년 신규 개관한 배움터에서는 매년 상·하반기 문화예술 아카데미가 열린다.\n",
            "야외공원은 부산문화회관과 부산시립박물관, UN공원을 하나로 이어주는 문화공원으로서 시민들을 위한 휴식 공원으로 조성되어 유치원, 어린이들의 휴식공간, 소풍장소로 각광받고 있다. (거리: 2.45)\n",
            "[KNN 기반] 2. ※ 해양박물관 리모델링 공사 관계로 한시적으로 운영 중단됩니다.</br>\n",
            "화진포 관광지구 내에 위치한 해양박물관으로 세계적으로 희귀한 각종 조개류, 갑각류, 산호류, 화석류, 박제 등 다양한 수중생물들을 볼 수 있는 패류박물관과 어류전시관으로 구성되어 있다. 1층은 어류전시관으로 180도 머리 위를 지나는 물고기들을 관람할 수 있고, 2층은 오션 비치, 동해 바다, 무척추 동물관과 입체영상관을 볼 수 있다. 특히 2층에서 상영하는 입체 영상을 통해 화진포의 호수와 바닷속 생태계를 공부할 수 있다. 고성군의 명물인 명태를 비롯해 동해 바다 돌고래, 고성 대진항, 거진항 어부들의 고기잡이 과정도 살펴볼 수 있다. (거리: 2.45)\n",
            "[KNN 기반] 3. 1996년 개관된 양구통일관은 민통선 최북단 양구군 해안면에 위치하고 있다. 통일에 대비해 북한의 현실을 이해하고 통일의식을 고취하기 위한 교육장 역할을 하기 위해 펀치볼분지 북단 제4땅굴 앞 5km 지점에 건립되었다. 통일관은 제1,2 전시실, 농특산물 판매장으로 나뉜다. 북한의 실상을 알 수 있는 생활용품, 수출품과 사진 등을 상설 전시하고 있으며, 농특산물 전시 판매장에서는 농특산물과 관광기념품 등을 판매하고 있다. 통일관에서는 제4 땅굴, 을지전망대, 전쟁기념관의 출입에 관한 업무도 처리하고 있다.\n",
            "인근에는 지금까지 발견된 4개의 땅굴 중 유일하게 땅굴 내부를 관람할 수 있는 전동차를 운행하는 제4땅굴과 국내 전망대 중 최북단에 위치한 을지전망대, 한국전쟁 당시 격전지였던 9개 양구지역 전투를 재조명하기 위해 건립한 전쟁기념관이 있다.\n",
            "통일관 광장에는 유영호 작가의 ‘그리팅맨(Greeting-man, 인사하는 사람)’이 전시되어 있다. 평화와 화해, 만남 등의 의미를 담고 있으며, 언젠가 남북이 서로 인사하고 화합하면서 평화 통일로 함께 나아가게 될 날을 기대해 본다는 작가의 의도를 담고 있다. (거리: 2.45)\n",
            "[KNN 기반] 4. 부산대학교박물관(釜山大學校博物館)은 국립부산대학교 부산캠퍼스에 위치한 박물관이다. 1956년 준공하여, 1964년 5월 정식 개관하였다. 한국전쟁 기간 중에는 국립중앙박물관의 피난 국보문화재를 보관하는 역할을 하였다.\n",
            " 고고·미술·민속 등 2만 4천여 점에 달하는 문화유산을 소장하고 있으며 이를 바탕으로 다양한 상설 및 특별전시를 운영하고 있다. 체험프로그램으로는 “수릿날과 단오부채”, “농업인의 날과 민속놀이 한마당”과 청소년교육프로그램인 “hello museum”, “talk talk museum”, “curare museum” 등을 운영하고 있으며, 올바른 역사 이해와 지역학 연구 활성화를 위한 문화유적답사 프로그램인 “효원가족답사”와 “ PNU역사나들이”도 진행하고 있다. 더불어 역사와 문화에 대한 관심과 흥미를 유발하기 위해 매년 새로운 기획으로 시민인문강좌를 개설하고 있다. (거리: 2.45)\n",
            "[KNN 기반] 5. 하남문화원은 지방문화원 진흥법에 의거하여 지역사회의 계발 및 문화진흥을 목적으로 1996년 6월 11일 설립되었다.  지역 고유문화를 계발, 보존, 전승하고 향토사의 조사, 연구 및 사료의 수집, 보존활동을 하고 있으며, 또한, 지역문화 행사의 개최와 문화에 관한 자료의 수집, 보존 및 보급활동과 지역문화에 대한 사회교육활동을 활발히 전개하고 있다. (거리: 2.45)\n"
          ]
        }
      ]
    },
    {
      "cell_type": "markdown",
      "source": [
        "## TF-IDF 협업기반 필터링"
      ],
      "metadata": {
        "id": "0wicivVNcaTp"
      }
    },
    {
      "cell_type": "code",
      "source": [
        "import pandas as pd\n",
        "import ast\n",
        "from sklearn.feature_extraction.text import TfidfVectorizer\n",
        "from sklearn.metrics.pairwise import cosine_similarity\n",
        "\n",
        "# 데이터 로드 및 전처리\n",
        "file_path = 'result (2).csv'\n",
        "data = pd.read_csv(file_path)\n",
        "data['labels'] = data['labels'].apply(ast.literal_eval)\n",
        "data['scores'] = data['scores'].apply(ast.literal_eval)\n",
        "\n",
        "# 여행지 설명을 텍스트로 추출\n",
        "descriptions = data['sequence'].values\n",
        "\n",
        "korean_stop_words = [\"의\", \"가\", \"이\", \"은\", \"는\", \"을\", \"를\", \"에\", \"과\", \"와\", \"한\", \"하다\"]\n",
        "\n",
        "\n",
        "# TF-IDF 벡터라이저를 사용하여 설명을 벡터화\n",
        "tfidf_vectorizer = TfidfVectorizer(stop_words=korean_stop_words)\n",
        "tfidf_matrix = tfidf_vectorizer.fit_transform(descriptions)\n",
        "\n",
        "# TF-IDF를 기반으로 코사인 유사도 계산\n",
        "cosine_sim = cosine_similarity(tfidf_matrix, tfidf_matrix)\n",
        "\n",
        "def recommend_tfidf_based(index, top_n=5):\n",
        "    # 특정 여행지와 유사한 여행지의 유사도 점수 가져오기\n",
        "    sim_scores = list(enumerate(cosine_sim[index]))\n",
        "\n",
        "    # 유사도 점수를 기준으로 정렬하여 상위 N개 여행지 선택\n",
        "    sim_scores = sorted(sim_scores, key=lambda x: x[1], reverse=True)\n",
        "\n",
        "    # 상위 N개 추천 여행지 반환 (자기 자신 제외)\n",
        "    top_similar_indices = [i[0] for i in sim_scores[1:top_n+1]]\n",
        "\n",
        "    recommendations = data.iloc[top_similar_indices]\n",
        "    return recommendations\n",
        "\n",
        "# 예시로 첫 번째 여행지와 유사한 여행지 추천\n",
        "index = 2\n",
        "top_tfidf_recommendations = recommend_tfidf_based(index)\n",
        "\n",
        "print(\"원본 여행지 설명: \", data.iloc[index]['sequence'])\n",
        "print(\"\\n추천 여행지:\\n\")\n",
        "for i, row in top_tfidf_recommendations.iterrows():\n",
        "    print(f\"{i+1}. {row['sequence']}\")\n"
      ],
      "metadata": {
        "colab": {
          "base_uri": "https://localhost:8080/"
        },
        "id": "QEfffnuIcZ5W",
        "outputId": "6ccb53d3-75d0-4fe0-dfd4-9a34055cd751"
      },
      "execution_count": 16,
      "outputs": [
        {
          "output_type": "stream",
          "name": "stdout",
          "text": [
            "원본 여행지 설명:  폐산업시설이었던 폐수처리장을 리모델링한 곳으로 수원산업단지 내에 위치해 있다. 뉴지엄이란 ‘뉴(New)와 뮤지엄(Museum)’의 합성어로 생활에 예술을 더하는 복합문화공간이라는 뜻이다. 전시실은 고색뉴지엄 전시 및 각종 행사가 이루어지는 시설로 폐수처리장의 흔적을 느낄 수 있는 고색뉴지엄의 대표 공간이다. 교육실은 문화 강좌 및 교육 프로그램을 수강하는 곳이며 회의나 세미나 등 다양한 용도로 활용되는 다목적 시설이다. 이외에도 문화 관련 서적 및 잡지를 열람할 수 있는 아카이브가 있다. 또한 주변에 황구지천 산책로가 위치해 있어 자연과 공존된 분위기를 함께 느낄 수 있다.\n",
            "\n",
            "추천 여행지:\n",
            "\n",
            "114. 완주향토예술문화회관은 완주군 삼례읍에 있는 문화시설로 전시장과 공연장이 있다.\n",
            "이곳은 주민이 중심이 되어 문화예술 활동을 할 수 있는 공간으로 다양한 문화 체험 기회를 제공한다. 지역주민이 언제든지 자유롭게 일상에서 이용할 수 있는 복합적인 문화 활동 공간이다. 공연 외에도 전시, 문화예술교육 등 다양한 프로그램을 통해 지역민들에게 있어 일상 속의 문화 동반자 역할을 하고 있다. 이를 위해 전시실은 전문 작가뿐만 아니라 남녀노소 누구나 예술적 역량을 펼칠 수 있는 열린 문화공간으로 운영하고 있다. 공연장, 전시실 외에도 전면 거울이 있거나 방음이 되는 연습실, 세미나실 등 다양한 시설을 대관하여 이용할 수 있다.\n",
            "주변에는 삼례신금공원, 완주군 공설운동장, 완주군 청소년수련관 등이 있어 연계하여 둘러보거나 이용할 수 있다.\n",
            "471. 부산 센텀에 위치한 뮤지엄 원은 예술 전문 기획사 쿤스트원이 2019년에 설립한 미디어 전문 현대 미술관으로, 2022년 3월 뮤지엄 원이라는 새로운 이름으로 재개관 했다. 약 700여 평 규모의 복층 형태로 이루어진 뮤지엄 원은 8천만 개의 LED를 바닥과 천장, 벽면에 설치하여 관람객들을 예술 작품 속으로 안내하는 초현실적인 경험을 선사한다. \n",
            "뮤지엄 원은 대중을 위한 예술, 대중이 체험하고 즐길 수 있는 예술을 지향하며 대중들이 열광하는 환상적인 미디어 아트뿐만 아니라 국내외를 대표하는 현대 미술가 21인의 영상, 설치, 사진, 회화, 조각, 도예 등 약 100여 점의 작품까지 만나볼 수 있다.\n",
            "266. 양평군립미술관은 2011년 개관하여 다양한 프로그램과 수준 높은 현대미술기획과 창의교육프로그램을 진행해오고있다. 양평읍 양근리 일대 대지 8069㎡에 건물면적 4184㎡에 지상 3층, 지하 1층 규모로 세워진 미술관으로 전시관 뿐만 아니라 교육시설, 컨퍼런스룸, 라이브러리, 키즈룸, 세미나실, 카페 등을 갖추고 있다. \n",
            "어린이, 청소년, 성인 대상의 교육 프로그램을 운영하고 있으며 학술세미나와 해마다 다른 주제의 문화행사를 열고 있다. 현장 체험 위주의 공간 확보 및 테마형 전시기획은 양평을 문화관광 브랜드로 자리매김하는데 큰 역할을 하고 있다.\n",
            "경의중앙선 양평역에서 도보로 14분거리에 위치해 있고 주변에 곤충박물관이 있다.\n",
            "339. 남양주시 진접읍에 있는 우석헌자연사박물관은 다양하고 희귀한 진본의 화석과 광물을 전시하고 있는 곳으로 2003년에 개관하였다. ‘우석헌’이란 이름은 설립자 김정우의 아호인 ‘우석’에서 유래한 것이며, ‘어여쁜 돌의 집’이라는 뜻이다. \n",
            "박물관 2층에는 다양한 종류의 광물이 테마별로 전시되어 있는데, 생명의 신비, 1억 년의 지배자, 바다-생명의 요람, 포유류의 승리, 순환하는 암석, 제2의 석기시대, 광물의 세계 등이다. 30여 년간 체계적으로 수집된 공룡, 광물, 암석 등으로 지질 관련 자연사 표본을 2층과 3층, 별관(디스커버리센터)으로 구성된 전시실에서 만날 수 있다. 자유 이동식 전시대, 4면 관찰식 전시대 등 3세대 전시 기법을 도입하여 재미있게 구성했다.\n",
            "박물관에서는 교육 프로그램과 상설 체험활동이 이루어지고 있다. 교육 프로그램은 유치원을 대상으로 하는 뮤지엄 투어와 우석헌 프로젝트, 자연 속의 수학 등의 뮤지엄 아카데미가 있으며, 상설 체험으로는 화석발굴체험과 수정 모래액자 만들기를 비롯해 화석 레플리카 만들기, 보석 유리병 목걸이 만들기, 암모나이트 지우개 만들기, 나만의 별자리 액자 만들기도 부모와 아이가 함께하기 좋은 체험 프로그램이다. 근처에 둘러볼 만한 곳으로 모란미술관과 광릉국립수목원이 있다.\n",
            "83. 고성문화원은 지역 문화 창달과 문화복지 증진을 통해 주민들의 삶의 질 향상과 문화 진흥을 위한 문화 사업의 수행을 목적으로 설립되었다. 주민들의 문화에 대한 고취와 문화 예술적 감성을 개발하고, 향상시키기 위한 문화 학교를 운영하고 있다. 향토문화사 조사 연구 및 사료 수집 발굴, 각종 전시활동, 각종 경연 대회 개최, 지역사회교육, 각종 문화 예술행사 주관, 문화학교를 개설 운영하고 있다. 문화 학교에는 약 20개의 교육강좌가 개설되어 있어서 원하는 강좌를 적은 수강료를 지불하고 수업을 들을 수 있다.\n"
          ]
        }
      ]
    },
    {
      "cell_type": "code",
      "source": [],
      "metadata": {
        "id": "zdGS-67WcwOi"
      },
      "execution_count": null,
      "outputs": []
    }
  ]
}