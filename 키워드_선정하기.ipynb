{
  "nbformat": 4,
  "nbformat_minor": 0,
  "metadata": {
    "colab": {
      "provenance": [],
      "authorship_tag": "ABX9TyMSIIlFYMDgS0ufKhLLoXkO",
      "include_colab_link": true
    },
    "kernelspec": {
      "name": "python3",
      "display_name": "Python 3"
    },
    "language_info": {
      "name": "python"
    }
  },
  "cells": [
    {
      "cell_type": "markdown",
      "metadata": {
        "id": "view-in-github",
        "colab_type": "text"
      },
      "source": [
        "<a href=\"https://colab.research.google.com/github/1013115/KTB_Project/blob/main/%ED%82%A4%EC%9B%8C%EB%93%9C_%EC%84%A0%EC%A0%95%ED%95%98%EA%B8%B0.ipynb\" target=\"_parent\"><img src=\"https://colab.research.google.com/assets/colab-badge.svg\" alt=\"Open In Colab\"/></a>"
      ]
    },
    {
      "cell_type": "code",
      "source": [
        "import pandas as pd\n",
        "\n",
        "# CSV 파일 로드\n",
        "csv_file_path = '14_상세정보_4.csv'  # 파일 경로를 입력하세요\n",
        "df = pd.read_csv(csv_file_path)\n",
        "\n",
        "# 단어 카운트 함수\n",
        "def count_words_in_dataframe(df, words):\n",
        "    word_counts = {}\n",
        "    for word in words:\n",
        "        word_count = 0\n",
        "        for column in df.columns:\n",
        "            word_count += df[column].astype(str).str.contains(word, case=False).sum()\n",
        "        word_counts[word] = word_count\n",
        "    return word_counts\n",
        "# 특정 단어 설정\n",
        "target_word =[ '문화','연인','자연','가족','체험','역사','친구','아이','해변','바다','산']\n",
        "\n",
        "\n",
        "\n",
        "# 단어 카운트\n",
        "word_counts = count_words_in_dataframe(df, target_word)\n",
        "\n",
        "for word, count in word_counts.items():\n",
        "    print(f\"'{word}' 단어가 파일 전체에서 총 {count}번 나왔습니다.\")"
      ],
      "metadata": {
        "colab": {
          "base_uri": "https://localhost:8080/"
        },
        "id": "14leMB2kQx4u",
        "outputId": "49adfb2b-b6e9-469d-aa39-c1a885e00ebb"
      },
      "execution_count": 33,
      "outputs": [
        {
          "output_type": "stream",
          "name": "stdout",
          "text": [
            "'문화' 단어가 파일 전체에서 총 101번 나왔습니다.\n",
            "'연인' 단어가 파일 전체에서 총 1번 나왔습니다.\n",
            "'자연' 단어가 파일 전체에서 총 14번 나왔습니다.\n",
            "'가족' 단어가 파일 전체에서 총 5번 나왔습니다.\n",
            "'체험' 단어가 파일 전체에서 총 33번 나왔습니다.\n",
            "'역사' 단어가 파일 전체에서 총 34번 나왔습니다.\n",
            "'친구' 단어가 파일 전체에서 총 3번 나왔습니다.\n",
            "'아이' 단어가 파일 전체에서 총 5번 나왔습니다.\n",
            "'해변' 단어가 파일 전체에서 총 0번 나왔습니다.\n",
            "'바다' 단어가 파일 전체에서 총 2번 나왔습니다.\n",
            "'산' 단어가 파일 전체에서 총 51번 나왔습니다.\n"
          ]
        }
      ]
    }
  ]
}