{
  "nbformat": 4,
  "nbformat_minor": 0,
  "metadata": {
    "colab": {
      "provenance": [],
      "include_colab_link": true
    },
    "kernelspec": {
      "name": "python3",
      "display_name": "Python 3"
    },
    "language_info": {
      "name": "python"
    }
  },
  "cells": [
    {
      "cell_type": "markdown",
      "metadata": {
        "id": "view-in-github",
        "colab_type": "text"
      },
      "source": [
        "<a href=\"https://colab.research.google.com/github/1013115/KBT_Project/blob/main/KTB_Day3_GenAI_%EC%8B%A4%EC%8A%B5.ipynb\" target=\"_parent\"><img src=\"https://colab.research.google.com/assets/colab-badge.svg\" alt=\"Open In Colab\"/></a>"
      ]
    },
    {
      "cell_type": "markdown",
      "source": [
        "# 파이썬 프로그래밍 종합 실습\n",
        "기본 문법 복습, 자료형, 함수, 클래스와 객체지향 프로그래밍, 제너레이터와 이터레이터, 파일 입출력, 예외 처리를 종합적으로 활용합니다."
      ],
      "metadata": {
        "id": "zr5LnyrKxjNd"
      }
    },
    {
      "cell_type": "markdown",
      "source": [
        "1. 파이썬 기본 문법 복습 및 자료형\n",
        "\n",
        "문제:\n",
        "\n",
        "사용자로부터 이름, 나이, 이메일을 입력받아 딕셔너리에 저장하는 프로그램을 작성하세요.\n",
        "\n",
        "나이와 이메일의 형식을 검증하고, 잘못된 입력이 있으면 예외 처리를 하세요."
      ],
      "metadata": {
        "id": "MwJQm7MJxvAk"
      }
    },
    {
      "cell_type": "code",
      "execution_count": null,
      "metadata": {
        "id": "yKTAculHxfMp",
        "outputId": "b006ee1f-c87e-432c-c77a-7c97fe948dca",
        "colab": {
          "base_uri": "https://localhost:8080/"
        }
      },
      "outputs": [
        {
          "output_type": "stream",
          "name": "stdout",
          "text": [
            "39\n",
            "sdkjf\n",
            "dlkf@dkj\n",
            "{'name': 'sdkjf', 'age': 39, 'email': 'dlkf@dkj'}\n",
            "<class 'int'>\n"
          ]
        }
      ],
      "source": [
        "age = int(input())\n",
        "\n",
        "name = input()\n",
        "email = input()\n",
        "person = dict()\n",
        "person['name'] = name\n",
        "\n",
        "class NOTAGEERROR(Exception):\n",
        "    def __init__(self, message=\"숫자로 입력하십시오.\"):\n",
        "        self.message = message\n",
        "        super().__init__(self.message)\n",
        "\n",
        "class NOTEMAILERROR(Exception):\n",
        "    def __init__(self, message=\"올바른 이메일 형식으로 작성하시오.\"):\n",
        "        self.message = message\n",
        "        super().__init__(self.message)\n",
        "\n",
        "def validate_age(age):\n",
        "\n",
        "    if age <0 :\n",
        "      raise NOTAGEERROR()\n",
        "    else:\n",
        "        person['age'] = age\n",
        "\n",
        "\n",
        "def validate_email(email):\n",
        "    if email.find('@') != -1 :\n",
        "        person['email']=email\n",
        "    else:\n",
        "        raise NOTEMAILERROR()\n",
        "\n",
        "try:\n",
        "    validate_age(age)\n",
        "except NOTAGEERROR as e:\n",
        "    print(e)\n",
        "\n",
        "\n",
        "try:\n",
        "  validate_email(email)\n",
        "except NOTEMAILERROR as e:\n",
        "    print(e)\n",
        "\n",
        "\n",
        "print(person)\n"
      ]
    },
    {
      "cell_type": "markdown",
      "source": [
        "2. 함수 및 클래스와 객체지향 프로그래밍\n",
        "\n",
        "문제:\n",
        "\n",
        "간단한 계산기 클래스를 작성하세요. 이 클래스는 덧셈, 뺄셈, 곱셈, 나눗셈 메서드를 포함합니다.\n",
        "\n",
        "사용자로부터 두 숫자와 연산자를 입력받아 계산 결과를 출력하는 프로그램을 작성하세요."
      ],
      "metadata": {
        "id": "in-rBALsyK33"
      }
    },
    {
      "cell_type": "code",
      "source": [
        "left = float(input())\n",
        "cal = input()\n",
        "right = float(input())\n",
        "\n",
        "\n",
        "\n",
        "\n",
        "class Calculator:\n",
        "    def __init__(self,left, cal, right):\n",
        "        self.left = left\n",
        "        self.right = right\n",
        "        self.cal= cal\n",
        "\n",
        "    def process(self):\n",
        "      if self.cal == '+':\n",
        "        return float(self.left + self.right)\n",
        "      elif self.cal == '-':\n",
        "        return float(self.left - self.right)\n",
        "      elif self.cal == '*':\n",
        "        return float(self.left * self.right)\n",
        "      elif self.cal == '/':\n",
        "        return float(self.left / self.right)\n",
        "\n",
        "\n",
        "value = Calculator(left,cal,right)\n",
        "\n",
        "result = value.process()\n",
        "print(result)\n",
        "try:\n",
        "    pass\n",
        "except:\n",
        "    pass"
      ],
      "metadata": {
        "id": "v-Yn0ydQyQMO",
        "outputId": "20fcf83d-2e8b-4805-a7f5-bd9adfc418a2",
        "colab": {
          "base_uri": "https://localhost:8080/"
        }
      },
      "execution_count": null,
      "outputs": [
        {
          "output_type": "stream",
          "name": "stdout",
          "text": [
            "45\n",
            "+\n",
            "56\n",
            "101.0\n"
          ]
        }
      ]
    },
    {
      "cell_type": "markdown",
      "source": [
        "3. 제너레이터와 이터레이터\n",
        "\n",
        "문제:\n",
        "\n",
        "피보나치 수열을 생성하는 제너레이터 함수를 작성하세요.\n",
        "피보나치 수열의 첫 10개 값을 출력하세요."
      ],
      "metadata": {
        "id": "OlDjuxSlyZOi"
      }
    },
    {
      "cell_type": "code",
      "source": [
        "def fibonacci(n):\n",
        "  a=0\n",
        "  b=1\n",
        "  for i in range(n):\n",
        "    yield a\n",
        "    t=a\n",
        "    a=b\n",
        "    b=t+b\n",
        "\n",
        "\n",
        "\n",
        "for num in fibonacci(10):\n",
        "  print(num)"
      ],
      "metadata": {
        "id": "BkI1jD4GydEa",
        "outputId": "69e8b56b-6002-46b7-de01-b2a3a94a0a8f",
        "colab": {
          "base_uri": "https://localhost:8080/"
        }
      },
      "execution_count": null,
      "outputs": [
        {
          "output_type": "stream",
          "name": "stdout",
          "text": [
            "0\n",
            "1\n",
            "1\n",
            "2\n",
            "3\n",
            "5\n",
            "8\n",
            "13\n",
            "21\n",
            "34\n"
          ]
        }
      ]
    },
    {
      "cell_type": "markdown",
      "source": [
        "4. 파일 입출력\n",
        "\n",
        "문제:\n",
        "\n",
        "사용자로부터 입력받은 데이터를 파일에 저장하고, 파일 내용을 읽어 출력하는 프로그램을 작성하세요.\n",
        "\n",
        "데이터는 JSON 형식으로 저장하세요"
      ],
      "metadata": {
        "id": "O-_Q0pRUycx0"
      }
    },
    {
      "cell_type": "code",
      "source": [
        "import json\n",
        "data = {}\n",
        "\n",
        "with open('example.json','r') as file:\n",
        "    content = json.load(file)\n",
        "\n",
        "print(json.dumps(content))"
      ],
      "metadata": {
        "id": "nyLTxXTHyqKE",
        "outputId": "3a9209f3-ffc7-491a-c675-775ad39b3dce",
        "colab": {
          "base_uri": "https://localhost:8080/",
          "height": 251
        }
      },
      "execution_count": null,
      "outputs": [
        {
          "output_type": "error",
          "ename": "FileNotFoundError",
          "evalue": "[Errno 2] No such file or directory: 'example.json'",
          "traceback": [
            "\u001b[0;31m---------------------------------------------------------------------------\u001b[0m",
            "\u001b[0;31mFileNotFoundError\u001b[0m                         Traceback (most recent call last)",
            "\u001b[0;32m<ipython-input-46-73eb215fb8d9>\u001b[0m in \u001b[0;36m<cell line: 4>\u001b[0;34m()\u001b[0m\n\u001b[1;32m      2\u001b[0m \u001b[0mdata\u001b[0m \u001b[0;34m=\u001b[0m \u001b[0;34m{\u001b[0m\u001b[0;34m}\u001b[0m\u001b[0;34m\u001b[0m\u001b[0;34m\u001b[0m\u001b[0m\n\u001b[1;32m      3\u001b[0m \u001b[0;34m\u001b[0m\u001b[0m\n\u001b[0;32m----> 4\u001b[0;31m \u001b[0;32mwith\u001b[0m \u001b[0mopen\u001b[0m\u001b[0;34m(\u001b[0m\u001b[0;34m'example.json'\u001b[0m\u001b[0;34m,\u001b[0m\u001b[0;34m'r'\u001b[0m\u001b[0;34m)\u001b[0m \u001b[0;32mas\u001b[0m \u001b[0mfile\u001b[0m\u001b[0;34m:\u001b[0m\u001b[0;34m\u001b[0m\u001b[0;34m\u001b[0m\u001b[0m\n\u001b[0m\u001b[1;32m      5\u001b[0m     \u001b[0mcontent\u001b[0m \u001b[0;34m=\u001b[0m \u001b[0mjson\u001b[0m\u001b[0;34m.\u001b[0m\u001b[0mload\u001b[0m\u001b[0;34m(\u001b[0m\u001b[0;34m)\u001b[0m\u001b[0;34m\u001b[0m\u001b[0;34m\u001b[0m\u001b[0m\n\u001b[1;32m      6\u001b[0m \u001b[0;34m\u001b[0m\u001b[0m\n",
            "\u001b[0;31mFileNotFoundError\u001b[0m: [Errno 2] No such file or directory: 'example.json'"
          ]
        }
      ]
    },
    {
      "cell_type": "code",
      "source": [],
      "metadata": {
        "id": "cWp4kACh8yML"
      },
      "execution_count": null,
      "outputs": []
    },
    {
      "cell_type": "code",
      "source": [
        "from google.colab import drive\n",
        "drive.mount('/content/drive')"
      ],
      "metadata": {
        "id": "1zvzwjKS9Idq"
      },
      "execution_count": null,
      "outputs": []
    },
    {
      "cell_type": "markdown",
      "source": [
        "5. Database 연동\n",
        "\n",
        "문제:\n",
        "\n",
        "SQLite 데이터베이스에 사용자 정보를 저장하고, 저장된 데이터를 조회하여 출력하는 프로그램을 작성하세요.\n",
        "\n",
        "테이블은 users로 하고, id, name, age, email 컬럼을 포함합니다."
      ],
      "metadata": {
        "id": "snEMYElhy3Q3"
      }
    },
    {
      "cell_type": "code",
      "source": [
        "import sqlite3\n",
        "\n",
        "connection = sqlite3.connect(':memory:')\n",
        "cursor = connection.cursor()\n",
        "cursor.execute(\"CREATE TABLE Users(id text, name text, age text, email text)\")\n",
        "\n",
        "cursor.execute(\"INSERT INTO Users Values('1','kim','18','dkf@dkfj.com');\")\n",
        "cursor.execute('SELECT * FROM Users')\n",
        "for row in cursor:\n",
        "  print(row)"
      ],
      "metadata": {
        "id": "d8BgUC0ky6_b",
        "outputId": "3dbff7bf-d348-494c-c7ee-ddbd418d23d1",
        "colab": {
          "base_uri": "https://localhost:8080/"
        }
      },
      "execution_count": null,
      "outputs": [
        {
          "output_type": "stream",
          "name": "stdout",
          "text": [
            "('1', 'kim', '18', 'dkf@dkfj.com')\n"
          ]
        }
      ]
    },
    {
      "cell_type": "markdown",
      "source": [
        "6. 예외 처리\n",
        "\n",
        "문제:\n",
        "\n",
        "사용자로부터 숫자를 입력받아, 그 숫자를 10으로 나누는 프로그램을 작성하세요.\n",
        "\n",
        "0으로 나누는 경우와 숫자가 아닌 값을 입력받는 경우를 처리하세요."
      ],
      "metadata": {
        "id": "qFd9nMWdzMaw"
      }
    },
    {
      "cell_type": "code",
      "source": [
        "val =input()\n",
        "try:\n",
        "    result = int(val)/10\n",
        "except ZeroDivisionError as e:\n",
        "    print(\"0으로 나눌 수 없습니다:\",e)\n",
        "except ValueError as e:\n",
        "    print(\"숫자로 입력하세요:\",e)\n",
        "else:\n",
        "  print(result)"
      ],
      "metadata": {
        "id": "B_0S33jOzPDJ",
        "outputId": "6760aca5-3e4b-4227-8ca9-7fbdbb87bc63",
        "colab": {
          "base_uri": "https://localhost:8080/"
        }
      },
      "execution_count": null,
      "outputs": [
        {
          "output_type": "stream",
          "name": "stdout",
          "text": [
            "dkfj\n",
            "숫자로 입력하세요: invalid literal for int() with base 10: 'dkfj'\n"
          ]
        }
      ]
    }
  ]
}